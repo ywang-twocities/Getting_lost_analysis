{
  "nbformat": 4,
  "nbformat_minor": 0,
  "metadata": {
    "colab": {
      "provenance": [],
      "gpuType": "T4"
    },
    "kernelspec": {
      "name": "python3",
      "display_name": "Python 3"
    },
    "language_info": {
      "name": "python"
    },
    "accelerator": "GPU"
  },
  "cells": [
    {
      "cell_type": "markdown",
      "source": [
        "Copyright 2024 Google LLC. Licensed under the Apache License, Version 2.0 (the \"License\");"
      ],
      "metadata": {
        "id": "6tCQrE4jUWkG"
      }
    },
    {
      "cell_type": "code",
      "source": [
        "# Licensed under the Apache License, Version 2.0 (the \"License\");\n",
        "# you may not use this file except in compliance with the License.\n",
        "# You may obtain a copy of the License at\n",
        "#\n",
        "# https://www.apache.org/licenses/LICENSE-2.0\n",
        "#\n",
        "# Unless required by applicable law or agreed to in writing, software\n",
        "# distributed under the License is distributed on an \"AS IS\" BASIS,\n",
        "# WITHOUT WARRANTIES OR CONDITIONS OF ANY KIND, either express or implied.\n",
        "# See the License for the specific language governing permissions and\n",
        "# limitations under the License"
      ],
      "metadata": {
        "id": "vkywkAG5UboZ"
      },
      "execution_count": null,
      "outputs": []
    },
    {
      "cell_type": "markdown",
      "source": [
        "# Forecasting county-level unemployment rates using TimesFM and PDFM embeddings.\n",
        "\n",
        "Note: This notebook demonstrates a highly experimental approach for forecasting county-level unemployment rates using TimesFM and PDFM embeddings. The methods and models applied here are in the early stages of development and may not yet provide reliable, production-grade forecasts. Results should be interpreted with caution, and further validation and tuning are recommended before applying these models in real-world scenarios."
      ],
      "metadata": {
        "id": "NVsEZVi8-QVa"
      }
    },
    {
      "cell_type": "markdown",
      "source": [
        "# Data Preparation"
      ],
      "metadata": {
        "id": "YHgjY5eb7TBE"
      }
    },
    {
      "cell_type": "markdown",
      "source": [
        "### Step 1: Download a csv file of the embeddings using this [link](https://docs.google.com/forms/d/e/1FAIpQLSeZLIqTCIx1-OiBzUnqXZpu_k5M223ZvMmqwQhMZ_0TkaWhEQ/viewform).\n",
        "\n",
        "The county and ZCTA (zipcode census tabulation area) embeddings are available in different files.\n",
        "\n",
        "Here we assume that you have obtained the embeddings and uploaded them to a Google Drive directory called `pdfm_embeddings/v0/us`."
      ],
      "metadata": {
        "id": "vUOwKv-G7mJ_"
      }
    },
    {
      "cell_type": "code",
      "execution_count": null,
      "metadata": {
        "id": "lC7wR5HD5RVR"
      },
      "outputs": [],
      "source": [
        "import pandas as pd\n",
        "from google.colab import drive\n",
        "#@markdown Specify the path to the embeddings file.\n",
        "embeddings_file_path = '/content/drive/MyDrive/pdfm_embeddings/v0/us/county_embeddings.csv' #@param {type:\"string\"}\n",
        "\n",
        "drive.mount('/content/drive', force_remount=True)\n",
        "county_embeddings = pd.read_csv(embeddings_file_path).set_index('place')"
      ]
    },
    {
      "cell_type": "code",
      "source": [
        "county_embeddings"
      ],
      "metadata": {
        "id": "sjbWo_z1AqAB"
      },
      "execution_count": null,
      "outputs": []
    },
    {
      "cell_type": "code",
      "source": [
        "embedding_features = [f'feature{x}' for x in range(330)]\n",
        "county_embeddings.head(2)"
      ],
      "metadata": {
        "id": "V_4Lt8Yl5vDG"
      },
      "execution_count": null,
      "outputs": []
    },
    {
      "cell_type": "markdown",
      "source": [
        "### Step 2: Download and prepare monthly unemployment data at county level from Data Commons"
      ],
      "metadata": {
        "id": "4WTpoJ9sSdhl"
      }
    },
    {
      "cell_type": "code",
      "source": [
        "!pip install datacommons_pandas --upgrade --quiet\n",
        "import datacommons_pandas as dc"
      ],
      "metadata": {
        "id": "g0GXwIqZSnaa"
      },
      "execution_count": null,
      "outputs": []
    },
    {
      "cell_type": "code",
      "source": [
        "label = 'UnemploymentRate_Person'\n",
        "# Due to response size limits, we'll query in batches.\n",
        "batch_size = 200\n",
        "\n",
        "all_labels = []\n",
        "for start in range(0, county_embeddings.index.shape[0], batch_size):\n",
        "    batch_indices = county_embeddings.index[start : start + batch_size]\n",
        "    batch_data = dc.build_time_series_dataframe(batch_indices, label)\n",
        "    all_labels.append(batch_data)\n",
        "\n",
        "df_labels = pd.concat(all_labels)\n",
        "\n",
        "print(df_labels.shape)\n",
        "df_labels.head(2)"
      ],
      "metadata": {
        "id": "GPL9O0MBSyc8"
      },
      "execution_count": null,
      "outputs": []
    },
    {
      "cell_type": "code",
      "source": [
        "import matplotlib.dates as mdates\n",
        "_ax = df_labels.loc['geoId/01001'].plot(figsize=(10, 3))"
      ],
      "metadata": {
        "id": "Ot3NS6QkaA5Y"
      },
      "execution_count": null,
      "outputs": []
    },
    {
      "cell_type": "markdown",
      "source": [
        "# Modeling\n",
        "\n"
      ],
      "metadata": {
        "id": "StqPcbirZMsB"
      }
    },
    {
      "cell_type": "code",
      "source": [
        "#@title Install TimesFM\n",
        "\n",
        "%%capture\n",
        "import os\n",
        "os.environ['XLA_PYTHON_CLIENT_PREALLOCATE'] = 'false'\n",
        "os.environ['JAX_PMAP_USE_TENSORSTORE'] = 'false'\n",
        "!pip install -q timesfm\n",
        "import timesfm"
      ],
      "metadata": {
        "id": "fQ8slHrZKFP1"
      },
      "execution_count": null,
      "outputs": []
    },
    {
      "cell_type": "code",
      "source": [
        "#@title Initialize a TimesFM model\n",
        "\n",
        "# Can change to \"cpu\" if GPUs are not available, but it would be much slower.\n",
        "timesfm_backend = \"gpu\"\n",
        "timesfm_model_config = timesfm.TimesFmHparams(\n",
        "    context_len=512,\n",
        "    horizon_len=128,\n",
        "    per_core_batch_size=128,\n",
        "    backend=timesfm_backend,\n",
        ")\n",
        "timesfm_model = timesfm.TimesFm(\n",
        "    hparams=timesfm_model_config,\n",
        "    checkpoint=timesfm.TimesFmCheckpoint(\n",
        "        huggingface_repo_id=\"google/timesfm-1.0-200m-pytorch\"\n",
        "    )\n",
        ")"
      ],
      "metadata": {
        "id": "ySZFyQnaKoQz"
      },
      "execution_count": null,
      "outputs": []
    },
    {
      "cell_type": "code",
      "source": [
        "#@title Define our forecasting model\n",
        "import lightgbm as lgbm\n",
        "import numpy as np\n",
        "\n",
        "class PDTimesFM:\n",
        "  \"\"\"Forecasts time series data using TimesFM and PDFM embeddings for error correction.\n",
        "\n",
        "  This class combines the strengths of TimesFM for base forecasting and PDFM\n",
        "  embeddings\n",
        "  for capturing spatial correlations to improve prediction accuracy.\n",
        "  \"\"\"\n",
        "\n",
        "  def __init__(\n",
        "      self, timesfm_model, pdfm_embeddings, error_correction_model=None\n",
        "  ):\n",
        "    \"\"\"Initializes the PDTimesFM model with a TimesFM model for forecasting\n",
        "\n",
        "    and PDFM embeddings for error correction.\n",
        "\n",
        "    Args:\n",
        "        timesfm_model: The TimesFM model to use for forecasting.\n",
        "        pdfm_embeddings: A pandas DataFrame containing the PDFM embeddings.\n",
        "        error_correction_model: An optional error correction model to use.\n",
        "    \"\"\"\n",
        "    self.timesfm_model = timesfm_model\n",
        "    self.pdfm_embeddings = pdfm_embeddings\n",
        "    self.error_correction_model = error_correction_model or lgbm.LGBMRegressor(\n",
        "        max_leaf_nodes=19,\n",
        "        min_samples_leaf=5,\n",
        "        learning_rate=0.05,\n",
        "        n_estimators=400,\n",
        "        feature_fraction=0.8,\n",
        "        verbose=-1,\n",
        "    )\n",
        "\n",
        "  def get_timesfm_forecast(self, history, forecast_steps=24, batch_size=128):\n",
        "    \"\"\"Obtains TimesFM forecasts in batches to handle large datasets.\n",
        "\n",
        "    Args:\n",
        "        history: A pandas DataFrame containing the historical time series data.\n",
        "        forecast_steps: The number of steps to forecast into the future.\n",
        "        batch_size: The size of each batch for processing.\n",
        "\n",
        "    Returns:\n",
        "        A pandas DataFrame containing the TimesFM forecasts for all locations.\n",
        "    \"\"\"\n",
        "    all_forecasts = []\n",
        "    for i in range(0, history.shape[0], batch_size):\n",
        "      batch_history = history.iloc[i : i + batch_size]\n",
        "      mean_forecast, _ = self.timesfm_model.forecast(\n",
        "          inputs=batch_history.values\n",
        "      )\n",
        "      all_forecasts.append(mean_forecast[:, :forecast_steps])\n",
        "\n",
        "    return pd.DataFrame(\n",
        "        data=np.concatenate(all_forecasts),\n",
        "        index=history.index,\n",
        "    )\n",
        "\n",
        "  def predict(self, history, train_time_steps=3, forecast_steps=24):\n",
        "    \"\"\"Generates forecasts using the PDTimesFM model with error correction.\n",
        "\n",
        "    Args:\n",
        "        history: A pandas DataFrame containing the historical spatiotemporal\n",
        "          data.\n",
        "        train_time_steps: The number of recent time steps to use for training\n",
        "          the error correction model.\n",
        "        forecast_steps: The number of steps to forecast into the future.\n",
        "\n",
        "    Returns:\n",
        "        A pandas DataFrame containing the adjusted forecasts.\n",
        "    \"\"\"\n",
        "    history = history.loc[\n",
        "        history.index.intersection(self.pdfm_embeddings.index)\n",
        "    ].copy()\n",
        "\n",
        "    # Split history into base forecast and error correction parts\n",
        "    if train_time_steps:\n",
        "      history_for_timesfm = history.iloc[:, :-train_time_steps]\n",
        "      history_for_error_correction = history.iloc[:, -train_time_steps:]\n",
        "    else:\n",
        "      history_for_timesfm = history\n",
        "      history_for_error_correction = None\n",
        "\n",
        "    timesfm_forecast_steps = train_time_steps + forecast_steps\n",
        "    timesfm_forecast = self.get_timesfm_forecast(\n",
        "        history_for_timesfm, timesfm_forecast_steps\n",
        "    )\n",
        "\n",
        "    if not train_time_steps:\n",
        "      return timesfm_forecast\n",
        "\n",
        "    # Prepare data for error correction\n",
        "    embedding_features = [f'feature{x}' for x in range(330)]\n",
        "    train_data = []\n",
        "    for i in range(train_time_steps):\n",
        "      label = history_for_error_correction.iloc[:, i]\n",
        "      forecast = timesfm_forecast.iloc[:, i]\n",
        "      train_data_i = (\n",
        "          self.pdfm_embeddings[embedding_features]\n",
        "          .join(forecast, how='inner')\n",
        "          .join(label, rsuffix='_gt')\n",
        "      )\n",
        "      train_data_i.columns = embedding_features + ['forecast', 'label']\n",
        "      train_data.append(train_data_i)\n",
        "    train_data = pd.concat(train_data)\n",
        "\n",
        "    # Train error correction model\n",
        "    self.error_correction_model.fit(\n",
        "        train_data[embedding_features + ['forecast']], train_data['label']\n",
        "    )\n",
        "\n",
        "    # Apply error correction to base forecasts\n",
        "    adjusted_forecast = []\n",
        "    for i in range(train_time_steps, timesfm_forecast_steps):\n",
        "      forecast = timesfm_forecast.iloc[:, i]\n",
        "      x = self.pdfm_embeddings[embedding_features].join(forecast, how='inner')\n",
        "      y = self.error_correction_model.predict(x)\n",
        "      adjusted_forecast.append(y)\n",
        "\n",
        "    adjusted_forecast = pd.DataFrame(\n",
        "        data=np.column_stack(adjusted_forecast),\n",
        "        index=history.index,\n",
        "    )\n",
        "    return adjusted_forecast\n"
      ],
      "metadata": {
        "id": "YPBrJYQ6HNoj"
      },
      "execution_count": null,
      "outputs": []
    },
    {
      "cell_type": "code",
      "source": [
        "#@title Use 10 years of data until 2022-07 to forecast the next 24 months.\n",
        "timesteps = df_labels.columns\n",
        "history_steps = timesteps[(timesteps >= '2012-07') & (timesteps < '2022-07')]\n",
        "forecast_steps = timesteps[(timesteps >= '2022-07') & (timesteps < '2024-07')]\n",
        "\n",
        "history = df_labels[history_steps]\n",
        "pdtfm = PDTimesFM(timesfm_model, county_embeddings)\n",
        "pdtfm_forecast = pdtfm.predict(history, train_time_steps=3)"
      ],
      "metadata": {
        "id": "v_JwiP3RcYJa"
      },
      "execution_count": null,
      "outputs": []
    },
    {
      "cell_type": "code",
      "source": [
        "#@title Get TimesFM forecasts without adjustments for comparisons\n",
        "tfm_forecast = pdtfm.predict(history, train_time_steps=0)\n",
        "tfm_forecast.head(2)"
      ],
      "metadata": {
        "id": "GgmZybCqc0Do"
      },
      "execution_count": null,
      "outputs": []
    },
    {
      "cell_type": "code",
      "source": [
        "#@title Evaluate both sets of monthly predictions\n",
        "\n",
        "from sklearn import metrics\n",
        "import numpy as np\n",
        "def evaluate(y_true, y_pred):\n",
        "  return {\n",
        "      'MAE': round(metrics.mean_absolute_error(y_true, y_pred), 3),\n",
        "      'MAPE': round(metrics.mean_absolute_percentage_error(y_true, y_pred), 3),\n",
        "      'R2': round(metrics.r2_score(y_true, y_pred), 2),\n",
        "  }\n",
        "\n",
        "all_metrics = []\n",
        "for i, step in enumerate(forecast_steps):\n",
        "  gt = df_labels[step]\n",
        "  tfm_metrics = evaluate(gt, tfm_forecast.iloc[:, i])\n",
        "  tfm_metrics['model'] = 'TimesFM'\n",
        "  tfm_metrics['step'] = step\n",
        "  all_metrics.append(tfm_metrics)\n",
        "  pdt_metrics = evaluate(gt, pdtfm_forecast.iloc[:, i])\n",
        "  pdt_metrics['model'] = 'PDTimesFM'\n",
        "  pdt_metrics['step'] = step\n",
        "  all_metrics.append(pdt_metrics)\n",
        "  print('\\n====', step)\n",
        "  print('TimesFM', tfm_metrics)\n",
        "  print('PDTimesFM', pdt_metrics)\n",
        "\n",
        "all_metrics = pd.DataFrame(all_metrics)\n",
        "all_metrics.groupby('model')[['MAE', 'MAPE', 'R2']].mean()"
      ],
      "metadata": {
        "id": "ZAGlkB2EhucS"
      },
      "execution_count": null,
      "outputs": []
    },
    {
      "cell_type": "code",
      "source": [
        "#@title Plot metrics over time\n",
        "import seaborn as sns\n",
        "import matplotlib.pyplot as plt\n",
        "\n",
        "fig, ax = plt.subplots(3, 1, sharex=True)\n",
        "sns.lineplot(data=all_metrics, x='step', y='MAPE', hue='model', ax=ax[0], legend=False)\n",
        "sns.lineplot(data=all_metrics, x='step', y='MAE', hue='model', ax=ax[1], legend=False)\n",
        "sns.lineplot(data=all_metrics, x='step', y='R2', hue='model', ax=ax[2])\n",
        "ax[2].set(ylabel='$R^2$')\n",
        "ax[2].legend(title='Model')\n",
        "plt.suptitle('Forecasting errors and $R^2$ over time')\n",
        "_ = plt.xticks(rotation=45)"
      ],
      "metadata": {
        "id": "A4ssXPLxkG-w"
      },
      "execution_count": null,
      "outputs": []
    },
    {
      "cell_type": "code",
      "source": [],
      "metadata": {
        "id": "PHtpm0Y-tjme"
      },
      "execution_count": null,
      "outputs": []
    }
  ]
}